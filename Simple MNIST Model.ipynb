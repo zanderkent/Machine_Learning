{
 "cells": [
  {
   "cell_type": "markdown",
   "metadata": {},
   "source": [
    "# Verify Cuda is installed (Optional)\n",
    "I installed CUDA for faster Neural Networks. The following two cells just checks to make sure that the GPU is working. This is optional. I have an RTX 2070, which is a CUDA enabled GPU. If you want to install CUDA go to this link.\n",
    "\n",
    "https://medium.com/@cjanze/how-to-install-tensorflow-with-gpu-support-on-ubuntu-18-04-lts-with-cuda-10-nvidia-gpu-312a693744b5"
   ]
  },
  {
   "cell_type": "code",
   "execution_count": 1,
   "metadata": {},
   "outputs": [],
   "source": [
    "from tensorflow.python.client import device_lib"
   ]
  },
  {
   "cell_type": "code",
   "execution_count": 2,
   "metadata": {},
   "outputs": [
    {
     "data": {
      "text/plain": [
       "['/device:GPU:0']"
      ]
     },
     "execution_count": 2,
     "metadata": {},
     "output_type": "execute_result"
    }
   ],
   "source": [
    "values = device_lib.list_local_devices()\n",
    "[x.name for x in values if x.device_type=='GPU']"
   ]
  },
  {
   "cell_type": "markdown",
   "metadata": {},
   "source": [
    "# Import all of the nessecary libraries\n",
    "\n",
    "MatplotLib for plotting\n",
    "\n",
    "numpy for numerical and array manipulation\n",
    "\n",
    "Keras for Tensorflow/Thanos based Deep learning"
   ]
  },
  {
   "cell_type": "code",
   "execution_count": 3,
   "metadata": {},
   "outputs": [],
   "source": [
    "# imports for array-handling and plotting\n",
    "import numpy as np\n",
    "import matplotlib\n",
    "matplotlib.use('agg')\n",
    "import matplotlib.pyplot as plt\n",
    "%matplotlib inline"
   ]
  },
  {
   "cell_type": "code",
   "execution_count": 4,
   "metadata": {},
   "outputs": [],
   "source": [
    "import warnings\n",
    "warnings.filterwarnings(\"ignore\")"
   ]
  },
  {
   "cell_type": "code",
   "execution_count": 5,
   "metadata": {},
   "outputs": [
    {
     "name": "stderr",
     "output_type": "stream",
     "text": [
      "Using TensorFlow backend.\n"
     ]
    }
   ],
   "source": [
    "import os\n",
    "import tensorflow as tf\n",
    "os.environ['TF_CPP_MIN_LOG_LEVEL'] = '3'\n",
    "\n",
    "# keras imports for the dataset and building our neural network\n",
    "from keras.datasets import mnist\n",
    "from keras.models import Sequential, load_model\n",
    "from keras.layers.core import Dense, Dropout, Activation\n",
    "from keras.utils import np_utils"
   ]
  },
  {
   "cell_type": "markdown",
   "metadata": {},
   "source": [
    "# Digit Recognition\n",
    "We are using MNIST dataset, This is more of a Computer Vision problem and Convolutional Nerual Networks (CNN) are typically used. But since this is an intro and predicting numbers can be done Multilayer perceptron we will."
   ]
  },
  {
   "cell_type": "code",
   "execution_count": 6,
   "metadata": {},
   "outputs": [],
   "source": [
    "(X_train, y_train), (X_test, y_test) = mnist.load_data()"
   ]
  },
  {
   "cell_type": "markdown",
   "metadata": {},
   "source": [
    "# Data Set review\n",
    "Let's review a sample of what the numbers look like."
   ]
  },
  {
   "cell_type": "code",
   "execution_count": 7,
   "metadata": {},
   "outputs": [
    {
     "data": {
      "image/png": "[encoded data removed]",
      "text/plain": [
       "<Figure size 432x288 with 9 Axes>"
      ]
     },
     "execution_count": 7,
     "metadata": {},
     "output_type": "execute_result"
    },
    {
     "data": {
      "image/png": "[encoded data removed]",
      "text/plain": [
       "<Figure size 432x288 with 9 Axes>"
      ]
     },
     "metadata": {},
     "output_type": "display_data"
    }
   ],
   "source": [
    "fig = plt.figure()\n",
    "for i in range(9):\n",
    "    plt.subplot(3,3,i+1)\n",
    "    plt.tight_layout()\n",
    "    plt.imshow(X_train[i], cmap='gray', interpolation='none')\n",
    "    plt.title(\"Digit: {}\".format(y_train[i]))\n",
    "    plt.xticks([])\n",
    "    plt.yticks([])\n",
    "fig"
   ]
  },
  {
   "cell_type": "markdown",
   "metadata": {},
   "source": [
    "# Check the distribution of targets"
   ]
  },
  {
   "cell_type": "code",
   "execution_count": 8,
   "metadata": {},
   "outputs": [
    {
     "data": {
      "text/plain": [
       "<BarContainer object of 10 artists>"
      ]
     },
     "execution_count": 8,
     "metadata": {},
     "output_type": "execute_result"
    },
    {
     "data": {
      "image/png": "[encoded data removed]",
      "text/plain": [
       "<Figure size 432x288 with 1 Axes>"
      ]
     },
     "metadata": {
      "needs_background": "light"
     },
     "output_type": "display_data"
    }
   ],
   "source": [
    "import seaborn as sns\n",
    "import pandas as pd\n",
    "plt.bar(list(set(y_train)),pd.Series(y_train).value_counts())"
   ]
  },
  {
   "cell_type": "markdown",
   "metadata": {},
   "source": [
    "# Reformatting the data\n",
    "Since A NN takes a (num_records, N_features)\n",
    "\n",
    "And currently this data is (num_records,Picture_length,Picture_width)\n",
    "We will need to reformat it to what we need it to be."
   ]
  },
  {
   "cell_type": "code",
   "execution_count": 9,
   "metadata": {},
   "outputs": [
    {
     "name": "stdout",
     "output_type": "stream",
     "text": [
      "X_train shape (60000, 28, 28)\n",
      "y_train shape (60000,)\n",
      "X_test shape (10000, 28, 28)\n",
      "y_test shape (10000,)\n",
      "Train matrix shape (60000, 784)\n",
      "Test matrix shape (10000, 784)\n"
     ]
    }
   ],
   "source": [
    "# let's print the shape before we reshape and normalize\n",
    "print(\"X_train shape\", X_train.shape)\n",
    "print(\"y_train shape\", y_train.shape)\n",
    "print(\"X_test shape\", X_test.shape)\n",
    "print(\"y_test shape\", y_test.shape)\n",
    "\n",
    "# building the input vector from the 28x28 pixels\n",
    "X_train = X_train.reshape(60000, 784)\n",
    "X_test = X_test.reshape(10000, 784)\n",
    "X_train = X_train.astype('float32')\n",
    "X_test = X_test.astype('float32')\n",
    "\n",
    "# normalizing the data to help with the training\n",
    "X_train /= 255\n",
    "X_test /= 255\n",
    "\n",
    "# print the final input shape ready for training\n",
    "print(\"Train matrix shape\", X_train.shape)\n",
    "print(\"Test matrix shape\", X_test.shape)"
   ]
  },
  {
   "cell_type": "code",
   "execution_count": 10,
   "metadata": {},
   "outputs": [
    {
     "name": "stdout",
     "output_type": "stream",
     "text": [
      "Shape before one-hot encoding:  (60000,)\n",
      "Shape after one-hot encoding:  (60000, 10)\n"
     ]
    }
   ],
   "source": [
    "# one-hot encoding using keras' numpy-related utilities\n",
    "n_classes = 10\n",
    "print(\"Shape before one-hot encoding: \", y_train.shape)\n",
    "Y_train = np_utils.to_categorical(y_train, n_classes)\n",
    "Y_test = np_utils.to_categorical(y_test, n_classes)\n",
    "print(\"Shape after one-hot encoding: \", Y_train.shape)"
   ]
  },
  {
   "cell_type": "code",
   "execution_count": 13,
   "metadata": {},
   "outputs": [],
   "source": [
    "model = Sequential() #Create an empty Sequential model\n",
    "model.add(Dense(512, input_shape=(784,))) #Create an input layer with 512 nodes and the input shape\n",
    "model.add(Activation('relu')) #Adding Rectified Linear Units which is the standard activation function\n",
    "model.add(Dropout(rate=0.2)) #Add drop out to help with overfitting\n",
    "\n",
    "model.add(Dense(512)) #Adding a single hidden layer with 512 nodes\n",
    "model.add(Activation('relu')) #Adding Rectified Linear Units which is the standard activation function\n",
    "model.add(Dropout(rate=0.2)) #Add drop out to help with overfitting\n",
    "\n",
    "model.add(Dense(10, activation='softmax')) #Adding output layer with 10, since that is the number of classes. \n",
    "#And we used softmax, since we want a probabilty distribution of the classes."
   ]
  },
  {
   "cell_type": "code",
   "execution_count": 12,
   "metadata": {},
   "outputs": [
    {
     "name": "stdout",
     "output_type": "stream",
     "text": [
      "_________________________________________________________________\n",
      "Layer (type)                 Output Shape              Param #   \n",
      "=================================================================\n",
      "dense_1 (Dense)              (None, 512)               401920    \n",
      "_________________________________________________________________\n",
      "activation_1 (Activation)    (None, 512)               0         \n",
      "_________________________________________________________________\n",
      "dropout_1 (Dropout)          (None, 512)               0         \n",
      "_________________________________________________________________\n",
      "dense_2 (Dense)              (None, 512)               262656    \n",
      "_________________________________________________________________\n",
      "activation_2 (Activation)    (None, 512)               0         \n",
      "_________________________________________________________________\n",
      "dropout_2 (Dropout)          (None, 512)               0         \n",
      "_________________________________________________________________\n",
      "dense_3 (Dense)              (None, 10)                5130      \n",
      "=================================================================\n",
      "Total params: 669,706\n",
      "Trainable params: 669,706\n",
      "Non-trainable params: 0\n",
      "_________________________________________________________________\n"
     ]
    }
   ],
   "source": [
    "model.summary()"
   ]
  },
  {
   "cell_type": "code",
   "execution_count": 14,
   "metadata": {},
   "outputs": [
    {
     "name": "stderr",
     "output_type": "stream",
     "text": [
      "W0624 19:28:42.287503 139778111371072 deprecation_wrapper.py:119] From /home/zander/anaconda3/lib/python3.7/site-packages/keras/optimizers.py:790: The name tf.train.Optimizer is deprecated. Please use tf.compat.v1.train.Optimizer instead.\n",
      "\n",
      "W0624 19:28:42.331685 139778111371072 deprecation_wrapper.py:119] From /home/zander/anaconda3/lib/python3.7/site-packages/keras/backend/tensorflow_backend.py:3295: The name tf.log is deprecated. Please use tf.math.log instead.\n",
      "\n"
     ]
    }
   ],
   "source": [
    "# compiling the sequential model\n",
    "#We will use categorical crossentropy since we are trying to predict a single class\n",
    "#We chose Adaptive Momentum as our optimizer as it is the go to optimizer\n",
    "model.compile(loss='categorical_crossentropy', metrics=['accuracy'], optimizer='adam')"
   ]
  },
  {
   "cell_type": "code",
   "execution_count": 15,
   "metadata": {},
   "outputs": [
    {
     "name": "stderr",
     "output_type": "stream",
     "text": [
      "W0624 19:30:40.193675 139778111371072 deprecation.py:323] From /home/zander/anaconda3/lib/python3.7/site-packages/tensorflow/python/ops/math_grad.py:1250: add_dispatch_support.<locals>.wrapper (from tensorflow.python.ops.array_ops) is deprecated and will be removed in a future version.\n",
      "Instructions for updating:\n",
      "Use tf.where in 2.0, which has the same broadcast rule as np.where\n"
     ]
    },
    {
     "name": "stdout",
     "output_type": "stream",
     "text": [
      "Train on 60000 samples, validate on 10000 samples\n",
      "Epoch 1/20\n",
      " - 3s - loss: 0.2478 - acc: 0.9263 - val_loss: 0.1119 - val_acc: 0.9651\n",
      "Epoch 2/20\n",
      " - 1s - loss: 0.1007 - acc: 0.9691 - val_loss: 0.0768 - val_acc: 0.9752\n",
      "Epoch 3/20\n",
      " - 1s - loss: 0.0715 - acc: 0.9776 - val_loss: 0.0713 - val_acc: 0.9750\n",
      "Epoch 4/20\n",
      " - 1s - loss: 0.0557 - acc: 0.9820 - val_loss: 0.0640 - val_acc: 0.9801\n",
      "Epoch 5/20\n",
      " - 1s - loss: 0.0450 - acc: 0.9852 - val_loss: 0.0690 - val_acc: 0.9797\n",
      "Epoch 6/20\n",
      " - 1s - loss: 0.0394 - acc: 0.9869 - val_loss: 0.0686 - val_acc: 0.9791\n",
      "Epoch 7/20\n",
      " - 4s - loss: 0.0348 - acc: 0.9886 - val_loss: 0.0652 - val_acc: 0.9825\n",
      "Epoch 8/20\n",
      " - 4s - loss: 0.0287 - acc: 0.9904 - val_loss: 0.0665 - val_acc: 0.9818\n",
      "Epoch 9/20\n",
      " - 4s - loss: 0.0269 - acc: 0.9913 - val_loss: 0.0653 - val_acc: 0.9825\n",
      "Epoch 10/20\n",
      " - 4s - loss: 0.0260 - acc: 0.9911 - val_loss: 0.0701 - val_acc: 0.9828\n",
      "Epoch 11/20\n",
      " - 4s - loss: 0.0229 - acc: 0.9921 - val_loss: 0.0734 - val_acc: 0.9817\n",
      "Epoch 12/20\n",
      " - 4s - loss: 0.0230 - acc: 0.9925 - val_loss: 0.0769 - val_acc: 0.9801\n",
      "Epoch 13/20\n",
      " - 4s - loss: 0.0204 - acc: 0.9932 - val_loss: 0.0718 - val_acc: 0.9816\n",
      "Epoch 14/20\n",
      " - 4s - loss: 0.0190 - acc: 0.9935 - val_loss: 0.0687 - val_acc: 0.9833\n",
      "Epoch 15/20\n",
      " - 4s - loss: 0.0169 - acc: 0.9944 - val_loss: 0.0641 - val_acc: 0.9840\n",
      "Epoch 16/20\n",
      " - 4s - loss: 0.0159 - acc: 0.9948 - val_loss: 0.0805 - val_acc: 0.9821\n",
      "Epoch 17/20\n",
      " - 4s - loss: 0.0178 - acc: 0.9942 - val_loss: 0.0763 - val_acc: 0.9834\n",
      "Epoch 18/20\n",
      " - 4s - loss: 0.0176 - acc: 0.9943 - val_loss: 0.0851 - val_acc: 0.9806\n",
      "Epoch 19/20\n",
      " - 4s - loss: 0.0151 - acc: 0.9953 - val_loss: 0.0783 - val_acc: 0.9820\n",
      "Epoch 20/20\n",
      " - 4s - loss: 0.0154 - acc: 0.9949 - val_loss: 0.0770 - val_acc: 0.9835\n"
     ]
    }
   ],
   "source": [
    "# training the model and saving metrics in history\n",
    "#We are setting verbose=2 to we can see each epoch. \n",
    "history = model.fit(X_train, Y_train,\n",
    "          batch_size=128, epochs=20,\n",
    "          verbose=2,\n",
    "          validation_data=(X_test, Y_test))"
   ]
  },
  {
   "cell_type": "markdown",
   "metadata": {},
   "source": [
    "# Evaluate our model\n",
    "Now let's evaluate the model to see how we did\n",
    "\n",
    "The first index is the loss, the second index is the accuracy"
   ]
  },
  {
   "cell_type": "code",
   "execution_count": 16,
   "metadata": {},
   "outputs": [
    {
     "name": "stdout",
     "output_type": "stream",
     "text": [
      "10000/10000 [==============================] - 0s 21us/step\n"
     ]
    },
    {
     "data": {
      "text/plain": [
       "[0.07698599499987495, 0.9835]"
      ]
     },
     "execution_count": 16,
     "metadata": {},
     "output_type": "execute_result"
    }
   ],
   "source": [
    "model.evaluate(X_test, Y_test)"
   ]
  },
  {
   "cell_type": "code",
   "execution_count": null,
   "metadata": {},
   "outputs": [],
   "source": []
  }
 ],
 "metadata": {
  "kernelspec": {
   "display_name": "Python 3",
   "language": "python",
   "name": "python3"
  },
  "language_info": {
   "codemirror_mode": {
    "name": "ipython",
    "version": 3
   },
   "file_extension": ".py",
   "mimetype": "text/x-python",
   "name": "python",
   "nbconvert_exporter": "python",
   "pygments_lexer": "ipython3",
   "version": "3.7.3"
  }
 },
 "nbformat": 4,
 "nbformat_minor": 2
}
