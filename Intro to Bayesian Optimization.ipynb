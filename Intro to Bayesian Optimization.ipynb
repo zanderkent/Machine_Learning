{
 "cells": [
  {
   "cell_type": "markdown",
   "metadata": {},
   "source": [
    "# Read through the whole tutorial before attemping to run it yourself\n",
    "\n",
    "\n",
    "\n"
   ]
  },
  {
   "cell_type": "markdown",
   "metadata": {},
   "source": [
    "# Introduction to Bayesian Optimization.\n",
    "### Bayesian optimization is a sequential design strategy for global optimization of black-box functions that doesn't require derivatives."
   ]
  },
  {
   "cell_type": "code",
   "execution_count": 1,
   "metadata": {},
   "outputs": [
    {
     "name": "stderr",
     "output_type": "stream",
     "text": [
      "Using TensorFlow backend.\n"
     ]
    }
   ],
   "source": [
    "# Pandas and numpy for data manipulation\n",
    "import pandas as pd\n",
    "import numpy as np\n",
    "\n",
    "# Modeling\n",
    "from keras.models import Sequential\n",
    "from keras.layers import Dense, Dropout\n",
    "from keras.callbacks import EarlyStopping\n",
    "from keras.utils import np_utils\n",
    "from keras.datasets import mnist\n",
    "from sklearn.model_selection import StratifiedKFold\n",
    "\n",
    "# Evaluation of the model\n",
    "from sklearn.model_selection import KFold\n",
    "\n",
    "MAX_EVALS = 500\n",
    "N_FOLDS = 10"
   ]
  },
  {
   "cell_type": "markdown",
   "metadata": {},
   "source": [
    "# Create a function to take parameters and return a compiled NN "
   ]
  },
  {
   "cell_type": "code",
   "execution_count": 2,
   "metadata": {},
   "outputs": [],
   "source": [
    "#Early stopping after 10 epochs of little decrease in our loss function.\n",
    "early_stopper = EarlyStopping(patience=10)\n",
    "def create_and_compile(network):\n",
    "    \"\"\"Network is a dictionary\"\"\"\n",
    "    input_shape = (784,)\n",
    "    nb_layers = network['nb_layers']\n",
    "    nb_neurons = network['nb_neurons']\n",
    "    activation = network['activation']\n",
    "    optimizer = network['optimizer']\n",
    "    #learning_rate = network['learning_rate'] TODO figure out how to add learning rate to an activation function\n",
    "    #Define the type of model\n",
    "    #A Sequential model, is a series of fully connected (DENSE) layers that are connected in sequence.\n",
    "    model = Sequential()\n",
    "    model.add(Dense(nb_neurons, activation=activation, input_shape=input_shape, name='input_layer'))\n",
    "    model.add(Dropout(rate=0.2, name='dropout_input'))\n",
    "    for i in range(nb_layers):\n",
    "        model.add(Dense(nb_neurons, activation=activation, name='layer_{}'.format(i+1)))\n",
    "        #Dropout to help avoid over-fitting\n",
    "        model.add(Dropout(rate=0.2, name='dropout_{}'.format(i+1)))\n",
    "    # Output layer.\n",
    "    model.add(Dense(10, activation='softmax'))\n",
    "    model.compile(loss='categorical_crossentropy', optimizer=optimizer,metrics=['accuracy'])\n",
    "    return model"
   ]
  },
  {
   "cell_type": "markdown",
   "metadata": {},
   "source": [
    "# Define our Cross validation function\n",
    "This is the function that we want to use to optimize towards. Typically you \"one hot encode\" your target to be a vector of records, N_classes. But since the Kfolds cross validation needs to take a single volumn vector, we will one hot encode the values AFTER we split our data."
   ]
  },
  {
   "cell_type": "code",
   "execution_count": 3,
   "metadata": {},
   "outputs": [],
   "source": [
    "def cross_validate(model,X=None,y=None,num_fold=5):\n",
    "    kFold = StratifiedKFold(n_splits=5)\n",
    "    generator = kFold.split(X, y)\n",
    "    Y_train = np_utils.to_categorical(y, 10)\n",
    "    scores = []\n",
    "    for val in generator:\n",
    "        model.fit(x=X[val[0]], y=Y_train[val[0]], batch_size=512,\n",
    "                  validation_data = [X[val[1]],Y_train[val[1]]],\n",
    "                  epochs=100, verbose=0, callbacks = [early_stopper])\n",
    "        scores.append(model.evaluate(X[val[1]],Y_train[val[1]]))\n",
    "    return np.array(scores)[:,1].mean() # 1 is accuracy, 0 is loss"
   ]
  },
  {
   "cell_type": "code",
   "execution_count": 4,
   "metadata": {},
   "outputs": [],
   "source": [
    "#Read in the MNIST data\n",
    "(X_train, y_train), (X_test, y_test) = mnist.load_data()"
   ]
  },
  {
   "cell_type": "markdown",
   "metadata": {},
   "source": [
    "# Plot the y label to see the distribution"
   ]
  },
  {
   "cell_type": "code",
   "execution_count": 5,
   "metadata": {},
   "outputs": [
    {
     "data": {
      "image/png": "[encoded data removed]",
      "text/plain": [
       "<Figure size 432x288 with 1 Axes>"
      ]
     },
     "metadata": {
      "needs_background": "light"
     },
     "output_type": "display_data"
    }
   ],
   "source": [
    "import matplotlib.pyplot as plt\n",
    "import seaborn as sns\n",
    "\n",
    "%matplotlib inline\n",
    "\n",
    "plt.hist(y_train[:], edgecolor = 'k'); \n",
    "plt.xlabel('Label'); plt.ylabel('Count'); plt.title('Counts of Labels');"
   ]
  },
  {
   "cell_type": "markdown",
   "metadata": {},
   "source": [
    "# Load and normalize input data"
   ]
  },
  {
   "cell_type": "code",
   "execution_count": 6,
   "metadata": {},
   "outputs": [
    {
     "name": "stdout",
     "output_type": "stream",
     "text": [
      "X_train shape (60000, 28, 28)\n",
      "y_train shape (60000,)\n",
      "X_test shape (10000, 28, 28)\n",
      "y_test shape (10000,)\n",
      "Train matrix shape (60000, 784)\n",
      "Test matrix shape (10000, 784)\n"
     ]
    }
   ],
   "source": [
    "# let's print the shape before we reshape and normalize\n",
    "print(\"X_train shape\", X_train.shape)\n",
    "print(\"y_train shape\", y_train.shape)\n",
    "print(\"X_test shape\", X_test.shape)\n",
    "print(\"y_test shape\", y_test.shape)\n",
    "\n",
    "# building the input vector from the 28x28 pixels\n",
    "X_train = X_train.reshape(60000, 784)\n",
    "X_test = X_test.reshape(10000, 784)\n",
    "X_train = X_train.astype('float32')\n",
    "X_test = X_test.astype('float32')\n",
    "\n",
    "# normalizing the data to help with the training\n",
    "X_train /= 255\n",
    "X_test /= 255\n",
    "\n",
    "# print the final input shape ready for training\n",
    "print(\"Train matrix shape\", X_train.shape)\n",
    "print(\"Test matrix shape\", X_test.shape)"
   ]
  },
  {
   "cell_type": "markdown",
   "metadata": {},
   "source": [
    "## Determine baseline model\n",
    "Created a simple NN to get a baseline to show our improvements"
   ]
  },
  {
   "cell_type": "code",
   "execution_count": 12,
   "metadata": {},
   "outputs": [
    {
     "name": "stdout",
     "output_type": "stream",
     "text": [
      "12005/12005 [==============================] - 1s 102us/step\n",
      "12002/12002 [==============================] - 1s 95us/step\n",
      "12000/12000 [==============================] - 1s 96us/step\n",
      "11997/11997 [==============================] - 1s 94us/step\n",
      "11996/11996 [==============================] - 1s 94us/step\n",
      "The baseline score on the test set is 0.9935.\n",
      "The baseline training time is 70.1870 seconds\n"
     ]
    }
   ],
   "source": [
    "from sklearn.metrics import roc_auc_score\n",
    "from timeit import default_timer as timer\n",
    "\n",
    "start = timer()\n",
    "network = {'nb_layers':1, 'nb_neurons':784, 'activation':'relu','optimizer':'adam'}\n",
    "model = create_and_compile(network)\n",
    "results = cross_validate(model, X_train, y_train)\n",
    "train_time = timer() - start\n",
    "\n",
    "print('The baseline score on the test set is {:.4f}.'.format(results))\n",
    "print('The baseline training time is {:.4f} seconds'.format(train_time))"
   ]
  },
  {
   "cell_type": "markdown",
   "metadata": {},
   "source": [
    "### This is the objective function for which we are going to optimize\n",
    "Essentially we are going to create, train and validate our model and check to see how close it is to 100%. \n",
    "Since we are trying to maximize our accuracy. We are taking the 1 - accuracy to get the difference. \n",
    "For example, if our model is 99% accurate, we are 1% away from 100%. We will minimze our \"loss\""
   ]
  },
  {
   "cell_type": "code",
   "execution_count": 7,
   "metadata": {},
   "outputs": [],
   "source": [
    "import csv\n",
    "import sys\n",
    "from hyperopt import STATUS_OK\n",
    "\n",
    "def objective(params, n_folds = 5):\n",
    "    \"\"\"Objective function for Gradient Boosting Machine Hyperparameter Optimization\"\"\"\n",
    "    \n",
    "    # Keep track of evals\n",
    "    global ITERATION\n",
    "    \n",
    "    ITERATION += 1\n",
    "    sys.stdout.flush()\n",
    "    start = timer()\n",
    "    #When using Hyperpot to generate our lists, it creates them as floats, to we are converting them to\n",
    "    #integers so that they will work on our Neural Network\n",
    "    for parameter_name in ['nb_neurons', 'nb_layers']:\n",
    "        params[parameter_name] = int(params[parameter_name])\n",
    "    #Create and compile our network, from the parameters that the TPE choses. \n",
    "    model = create_and_compile(params)\n",
    "    #Generate the accuracy of the parameters\n",
    "    cv_results = cross_validate(model,X_train, y_train)\n",
    "    #This allows us to keep track of how long it takes to run the 5 fold CV on our NN.\n",
    "    #This is important if we need to make comprimises on speed VS accuracy.\n",
    "    #The more nodes/layers that you have, the longer it takes for the NN to train/run\n",
    "    run_time = timer() - start\n",
    "    \n",
    "    # We take 1 - our accuracy to get how far away our model is from 100% accuracy. \n",
    "    loss = 1 - cv_results\n",
    "\n",
    "    # Write to the csv file ('a' means append)\n",
    "    of_connection = open(out_file, 'a')\n",
    "    writer = csv.writer(of_connection)\n",
    "    writer.writerow([cv_results, params, ITERATION, run_time])\n",
    "    \n",
    "    # Dictionary with information for evaluation\n",
    "    return {'loss': loss, 'params': params, 'iteration': ITERATION,\n",
    "            'train_time': run_time, 'status': STATUS_OK}"
   ]
  },
  {
   "cell_type": "markdown",
   "metadata": {},
   "source": [
    "# Pick the type of optimization algorithm\n",
    "\n",
    "We are using the TPE which is TREE Parzen Estimator. \n",
    "    The Tree-structured Parzen Estimator builds a model by applying Bayes rule. Instead of directly representing p( y | x) instead it used Bayes rule. Which is \n",
    "$$\n",
    "\\begin{equation} \n",
    "p(Y|X) = \\frac{(X|Y)*P(Y)}{P(X)}\n",
    "\\end{equation}\n",
    "$$"
   ]
  },
  {
   "cell_type": "code",
   "execution_count": 1,
   "metadata": {},
   "outputs": [],
   "source": [
    "from hyperopt import tpe, Trials, fmin, hp\n",
    "\n",
    "# optimization algorithm\n",
    "tpe_algorithm = tpe.suggest\n",
    "\n",
    "# Keep track of results\n",
    "bayes_trials = Trials()"
   ]
  },
  {
   "cell_type": "markdown",
   "metadata": {},
   "source": [
    "### We need to use hyperopt.hp to use in our optimization\n",
    "This allows the optimzation to pick the combinations."
   ]
  },
  {
   "cell_type": "code",
   "execution_count": 2,
   "metadata": {},
   "outputs": [],
   "source": [
    "# Define the search space\n",
    "space = {\n",
    "    'nb_layers': hp.quniform('nb_layers', 1,5, 1), #Layers from 1-5, incrementing by 1\n",
    "    'nb_neurons': hp.quniform('nb_neurons', 64, 1024, 64), #NB neurons from 64-1024, incrementing by 64\n",
    "    'activation': hp.choice('activation', ['relu', 'elu', 'tanh', 'sigmoid']), #Chose one of the 4 activations functions for the layers\n",
    "    'optimizer': hp.choice('optimizer', ['rmsprop', 'adam', 'sgd', 'adagrad',\n",
    "                      'adadelta', 'adamax', 'nadam']) #Chose one of the 7 optimizers\n",
    "}"
   ]
  },
  {
   "cell_type": "code",
   "execution_count": 3,
   "metadata": {},
   "outputs": [
    {
     "data": {
      "text/plain": [
       "{'activation': 'sigmoid',\n",
       " 'nb_layers': 3.0,\n",
       " 'nb_neurons': 192.0,\n",
       " 'optimizer': 'adamax'}"
      ]
     },
     "execution_count": 3,
     "metadata": {},
     "output_type": "execute_result"
    }
   ],
   "source": [
    "#Here we can see what a random sample from our space looks like\n",
    "from hyperopt.pyll.stochastic import sample\n",
    "sample(space)"
   ]
  },
  {
   "cell_type": "markdown",
   "metadata": {},
   "source": [
    "# Here we are creating an output file to write the records to"
   ]
  },
  {
   "cell_type": "code",
   "execution_count": 11,
   "metadata": {},
   "outputs": [],
   "source": [
    "# File to save first results\n",
    "out_file = './neural_network.csv'\n",
    "of_connection = open(out_file, 'w')\n",
    "writer = csv.writer(of_connection)\n",
    "\n",
    "# Write the headers to the file\n",
    "writer.writerow(['accuracy', 'params', 'iteration', 'train_time'])\n",
    "of_connection.close()"
   ]
  },
  {
   "cell_type": "markdown",
   "metadata": {},
   "source": [
    "# Here is where all the magic happens\n",
    "We are passing the objective, the space, the optimization algo, maximum evals and the trial tracking\n",
    "###### Objective: This is the custom objective function that we created \n",
    "###### space: is the search space, all of the hyper-parameters we are using to tune\n",
    "###### algo: the tpe algo we are using, see above\n",
    "###### max_evals: number of iterations you want to go through before you stop\n",
    "###### trials: this keeps track of all of the different options the algo has tried\n",
    "###### rstate: random state that needs to be used (check documentation for more information)"
   ]
  },
  {
   "cell_type": "code",
   "execution_count": 14,
   "metadata": {},
   "outputs": [],
   "source": [
    "#You can review the trials in the network.csv as the trials run through.\n",
    "\n",
    "%%capture\n",
    "\n",
    "# Global variable\n",
    "global  ITERATION\n",
    "ITERATION = 0\n",
    "# Run optimization\n",
    "best = fmin(fn = objective, space = space, algo = tpe_algorithm, \n",
    "            max_evals = 50, trials = bayes_trials, rstate = np.random.RandomState(50))"
   ]
  }
 ],
 "metadata": {
  "kernelspec": {
   "display_name": "Python 3",
   "language": "python",
   "name": "python3"
  },
  "language_info": {
   "codemirror_mode": {
    "name": "ipython",
    "version": 3
   },
   "file_extension": ".py",
   "mimetype": "text/x-python",
   "name": "python",
   "nbconvert_exporter": "python",
   "pygments_lexer": "ipython3",
   "version": "3.7.3"
  }
 },
 "nbformat": 4,
 "nbformat_minor": 2
}
